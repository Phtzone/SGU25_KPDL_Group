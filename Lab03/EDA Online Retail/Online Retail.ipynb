{
 "cells": [
  {
   "cell_type": "markdown",
   "id": "ccc25304",
   "metadata": {},
   "source": [
    "# Khai phá dữ liệu bán lẻ ( Online Retail )"
   ]
  },
  {
   "cell_type": "code",
   "execution_count": null,
   "id": "2e2587b4",
   "metadata": {},
   "outputs": [],
   "source": []
  },
  {
   "cell_type": "markdown",
   "id": "df6ad15e",
   "metadata": {},
   "source": [
    "## Thông tin dữ liệu"
   ]
  },
  {
   "cell_type": "code",
   "execution_count": null,
   "id": "a2768b22",
   "metadata": {},
   "outputs": [],
   "source": []
  },
  {
   "cell_type": "markdown",
   "id": "8d39edc4",
   "metadata": {},
   "source": [
    "## Import các thư viện cần thiết"
   ]
  },
  {
   "cell_type": "code",
   "execution_count": null,
   "id": "6951a2bf",
   "metadata": {},
   "outputs": [],
   "source": [
    "import numpy as np \n",
    "import pandas as pd \n",
    "import matlotlib.pylot as plt"
   ]
  },
  {
   "cell_type": "markdown",
   "id": "12cb4b1c",
   "metadata": {},
   "source": [
    "## Khám phá dữ liệu ( EDA )"
   ]
  },
  {
   "cell_type": "code",
   "execution_count": null,
   "id": "3ce76166",
   "metadata": {},
   "outputs": [],
   "source": [
    "url = \"\""
   ]
  }
 ],
 "metadata": {
  "kernelspec": {
   "display_name": "Python 3 (ipykernel)",
   "language": "python",
   "name": "python3"
  },
  "language_info": {
   "codemirror_mode": {
    "name": "ipython",
    "version": 3
   },
   "file_extension": ".py",
   "mimetype": "text/x-python",
   "name": "python",
   "nbconvert_exporter": "python",
   "pygments_lexer": "ipython3",
   "version": "3.12.1"
  }
 },
 "nbformat": 4,
 "nbformat_minor": 5
}
