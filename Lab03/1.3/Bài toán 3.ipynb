{
 "cells": [
  {
   "cell_type": "markdown",
   "id": "e60a9380",
   "metadata": {},
   "source": [
    "# 1.3 Phân tích đơn biến và hai biến"
   ]
  },
  {
   "cell_type": "markdown",
   "id": "d1d20831",
   "metadata": {},
   "source": [
    "## Bài toán 3: Thực hiện các nhiệm vụ trong bài toán 3 để làm quen với việc sử dụng các công cụ hỗ trợ EDA tự động. "
   ]
  },
  {
   "cell_type": "markdown",
   "id": "20f25f2b",
   "metadata": {},
   "source": [
    "### Nhiệm vụ 1: Sử dụng pandas profiling trên dữ liệu Customer Personality Analysis. Dữ liệu lấy tại \n",
    "https://www.kaggle.com/datasets/imakash3011/customer-personality-analysis "
   ]
  },
  {
   "cell_type": "markdown",
   "id": "8185e27d",
   "metadata": {},
   "source": [
    "#### 1. Cài đặt pandas_profiling sau này đổi tên thành ydata_profiling (xem thông tin chi tiết tại \n",
    "https://pypi.org/project/pandas-profiling/3.1.0) "
   ]
  },
  {
   "cell_type": "markdown",
   "id": "77b7c1d8",
   "metadata": {},
   "source": [
    "#### 2. Sử dụng công cụ "
   ]
  },
  {
   "cell_type": "code",
   "execution_count": 1,
   "id": "870ad9e7",
   "metadata": {},
   "outputs": [
    {
     "data": {
      "text/html": [
       "\n",
       "            <div>\n",
       "                <ins><a href=\"https://ydata.ai/register\">Upgrade to ydata-sdk</a></ins>\n",
       "                <p>\n",
       "                    Improve your data and profiling with ydata-sdk, featuring data quality scoring, redundancy detection, outlier identification, text validation, and synthetic data generation.\n",
       "                </p>\n",
       "            </div>\n",
       "            "
      ],
      "text/plain": [
       "<IPython.core.display.HTML object>"
      ]
     },
     "metadata": {},
     "output_type": "display_data"
    },
    {
     "data": {
      "application/vnd.jupyter.widget-view+json": {
       "model_id": "8df1544da9c04a4784c4e395bc604c91",
       "version_major": 2,
       "version_minor": 0
      },
      "text/plain": [
       "Summarize dataset:   0%|          | 0/5 [00:00<?, ?it/s]"
      ]
     },
     "metadata": {},
     "output_type": "display_data"
    },
    {
     "name": "stderr",
     "output_type": "stream",
     "text": [
      "\n",
      "  0%|                                                                                            | 0/1 [00:00<?, ?it/s]\u001b[A\n",
      "100%|████████████████████████████████████████████████████████████████████████████████████| 1/1 [00:00<00:00,  5.99it/s]\u001b[A\n",
      "C:\\Users\\thach\\anaconda3\\Lib\\site-packages\\ydata_profiling\\visualisation\\utils.py:73: UserWarning: Glyph 9 (\t) missing from font(s) Arial.\n",
      "  plt.savefig(\n",
      "C:\\Users\\thach\\anaconda3\\Lib\\site-packages\\ydata_profiling\\visualisation\\utils.py:73: UserWarning: Glyph 9 (\t) missing from font(s) Arial.\n",
      "  plt.savefig(\n"
     ]
    },
    {
     "data": {
      "application/vnd.jupyter.widget-view+json": {
       "model_id": "4b8eccae53664e20986f4c83fe8f55ff",
       "version_major": 2,
       "version_minor": 0
      },
      "text/plain": [
       "Generate report structure:   0%|          | 0/1 [00:00<?, ?it/s]"
      ]
     },
     "metadata": {},
     "output_type": "display_data"
    },
    {
     "data": {
      "application/vnd.jupyter.widget-view+json": {
       "model_id": "ef58c153797140bab702423f76eb02bd",
       "version_major": 2,
       "version_minor": 0
      },
      "text/plain": [
       "Render HTML:   0%|          | 0/1 [00:00<?, ?it/s]"
      ]
     },
     "metadata": {},
     "output_type": "display_data"
    },
    {
     "data": {
      "application/vnd.jupyter.widget-view+json": {
       "model_id": "e53d8c4304404aa68eaa5fc6d7b8240d",
       "version_major": 2,
       "version_minor": 0
      },
      "text/plain": [
       "Export report to file:   0%|          | 0/1 [00:00<?, ?it/s]"
      ]
     },
     "metadata": {},
     "output_type": "display_data"
    }
   ],
   "source": [
    "import pandas as pd \n",
    "from ydata_profiling import ProfileReport \n",
    "marketing_data = pd.read_csv(\"marketing_campaign.csv\") \n",
    "# Create an Automated EDA report using the ProfileReport class in the ydata_profiling library. Use the to_file method to output the report to an HTML file\n",
    "profile = ProfileReport(marketing_data) \n",
    "profile.to_file(\"Reports/profile_output.html\") "
   ]
  },
  {
   "cell_type": "markdown",
   "id": "e6b2945a",
   "metadata": {},
   "source": [
    "#### 3. Tiến hành EDA trên trang tập tin **profile_output.html**"
   ]
  },
  {
   "cell_type": "code",
   "execution_count": null,
   "id": "53aba10a",
   "metadata": {},
   "outputs": [],
   "source": []
  },
  {
   "cell_type": "code",
   "execution_count": 2,
   "id": "bbcb646f",
   "metadata": {},
   "outputs": [],
   "source": [
    "import os\n",
    "os.startfile(\"Reports\\\\profile_output.html\")"
   ]
  },
  {
   "cell_type": "markdown",
   "id": "59150d01",
   "metadata": {},
   "source": [
    "### Nhiệm vụ 2: Sử dụng dtale trên dữ liệu Marketing Campaign. \n",
    "Dữ liệu lấy từ https://www.kaggle.com/datasets/imakash3011/customer-personality-analysis "
   ]
  },
  {
   "cell_type": "markdown",
   "id": "84da0db2",
   "metadata": {},
   "source": [
    "#### 1. Cài đặt dtale (xem thông tin chi tiết tại https://dtale.readthedocs.io/en/latest/)  "
   ]
  },
  {
   "cell_type": "markdown",
   "id": "2fac452f",
   "metadata": {},
   "source": [
    "#### 2. Sử dụng công cụ "
   ]
  },
  {
   "cell_type": "code",
   "execution_count": 5,
   "id": "f9bf368c",
   "metadata": {},
   "outputs": [],
   "source": [
    "import pandas as pd \n",
    "import dtale \n",
    "marketing_data = pd.read_csv(\"marketing_campaign.csv\") \n",
    "dtale.show(marketing_data).open_browser()"
   ]
  },
  {
   "cell_type": "markdown",
   "id": "cf8ab47b",
   "metadata": {},
   "source": []
  }
 ],
 "metadata": {
  "kernelspec": {
   "display_name": "Python 3 (ipykernel)",
   "language": "python",
   "name": "python3"
  },
  "language_info": {
   "codemirror_mode": {
    "name": "ipython",
    "version": 3
   },
   "file_extension": ".py",
   "mimetype": "text/x-python",
   "name": "python",
   "nbconvert_exporter": "python",
   "pygments_lexer": "ipython3",
   "version": "3.12.7"
  }
 },
 "nbformat": 4,
 "nbformat_minor": 5
}
